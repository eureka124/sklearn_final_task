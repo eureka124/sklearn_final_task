{
 "cells": [
  {
   "cell_type": "code",
   "execution_count": 13,
   "id": "initial_id",
   "metadata": {
    "ExecuteTime": {
     "end_time": "2024-11-03T11:21:52.873768Z",
     "start_time": "2024-11-03T11:21:52.866606Z"
    }
   },
   "outputs": [],
   "source": [
    "import pandas as pd\n",
    "import numpy as np\n",
    "import matplotlib.pyplot as plt\n",
    "from sklearn.preprocessing import PolynomialFeatures\n",
    "from sklearn.preprocessing import StandardScaler\n",
    "from sklearn.metrics import mean_squared_error\n",
    "from sklearn.model_selection import GridSearchCV\n",
    "from sklearn.pipeline import Pipeline\n",
    "from sklearn.neighbors import KNeighborsClassifier\n",
    "from sklearn.linear_model import LinearRegression\n"
   ]
  },
  {
   "cell_type": "code",
   "execution_count": 14,
   "id": "671cc6f62e385af7",
   "metadata": {
    "ExecuteTime": {
     "end_time": "2024-11-03T11:21:52.914243Z",
     "start_time": "2024-11-03T11:21:52.897226Z"
    }
   },
   "outputs": [
    {
     "name": "stdout",
     "output_type": "stream",
     "text": [
      "[['114', '27'], ['Year', 'Gender', 'Province', 'Height', 'Weight', 'Unavailable', 'Shortsight', 'Dailymealexp', 'Riceexp', 'Monthlyexp', 'Weeklytakeout', 'Monthlyshopping', 'Sleeptime', 'Timefallasleep', 'Dailyslidetime', 'Dailygametime', 'Dailysporttime', 'Weeklyfamilyfreq', 'Weeklyhairwash', 'Healthstatus', 'Hairloss', 'Dailyselfstudy', 'Selfstudyplace', 'Lessoneffect', 'Weelyworktime', 'Anxiousstatus', 'Rank'], ['男', '女'], ['北京市', '天津市', '山西省', '河北省', '内蒙古自治区', '黑龙江省', '吉林省', '辽宁省', '上海市', '江苏省', '浙江省', '安徽省', '福建省', '江西省', '山东省', '河南省', '湖北省', '湖南省', '广东省', '广西壮族自治区', '海南省', '四川省', '贵州省', '云南省', '重庆市', '西藏自治区', '陕西省', '甘肃省', '青海省', '宁夏回族自治区', '新疆维吾尔自治区', '香港特别行政区', '澳门特别行政区', '台湾省'], ['否', '是'], ['22:00以前', '22:00~22:30', '22:30~23:00', '23:00~23:30', '23:30~00:00', '00:00~00:30', '00:30~01:00', '01:00~01:30', '01:30~02:00', '02:00以后'], ['非常好', '比较好', '一般', '较差', '很差'], ['不脱发', '微微脱发', '较严重脱发', '严重脱发'], ['图书馆', '寝室', '教室', '其他'], ['不焦虑', '稍有焦虑', '较严重焦虑', '严重焦虑'], ['前10%', '10%~20%', '20%~30%', '30%~40%', '40%~50%', '50%~60%', '60%~70%', '70%~80%', '80%~90%', '90%以后']]\n"
     ]
    }
   ],
   "source": [
    "# 读取classname.csv\n",
    "\n",
    "class_name=[]# 用于存放classname.csv中各单元格的内容\n",
    "with open(\"undergraduate_dataset_classname.csv\",'r',encoding='utf-8-sig') as f:\n",
    "    #需使用utf-8-sig编码，否则会出现第一行出现['\\ufeff114', '27']\n",
    "    classname_lines=f.readlines()\n",
    "    for line in classname_lines:\n",
    "        cell=line.strip('\\n').split(',')[:-1]\n",
    "        line_list=list(filter(None, cell))# 过滤掉空白单元格,再转化为list\n",
    "        class_name.append(line_list)\n",
    "    print(class_name)\n",
    "    column_name=class_name[1]# class_name中第二个列表为数据各列的列名\n",
    "\n",
    "data=pd.read_csv('undergraduate_dataset.csv',header=0)\n",
    "\n"
   ]
  },
  {
   "cell_type": "code",
   "execution_count": 15,
   "id": "41dd7c472f19fe11",
   "metadata": {
    "ExecuteTime": {
     "end_time": "2024-11-03T11:21:53.128269Z",
     "start_time": "2024-11-03T11:21:53.118365Z"
    }
   },
   "outputs": [
    {
     "name": "stdout",
     "output_type": "stream",
     "text": [
      "{'男': 0, '女': 1, '北京市': 0, '天津市': 1, '山西省': 2, '河北省': 3, '内蒙古自治区': 4, '黑龙江省': 5, '吉林省': 6, '辽宁省': 7, '上海市': 8, '江苏省': 9, '浙江省': 10, '安徽省': 11, '福建省': 12, '江西省': 13, '山东省': 14, '河南省': 15, '湖北省': 16, '湖南省': 17, '广东省': 18, '广西壮族自治区': 19, '海南省': 20, '四川省': 21, '贵州省': 22, '云南省': 23, '重庆市': 24, '西藏自治区': 25, '陕西省': 26, '甘肃省': 27, '青海省': 28, '宁夏回族自治区': 29, '新疆维吾尔自治区': 30, '香港特别行政区': 31, '澳门特别行政区': 32, '台湾省': 33, '否': 0, '是': 1, '22:00以前': 0, '22:00~22:30': 1, '22:30~23:00': 2, '23:00~23:30': 3, '23:30~00:00': 4, '00:00~00:30': 5, '00:30~01:00': 6, '01:00~01:30': 7, '01:30~02:00': 8, '02:00以后': 9, '非常好': 0, '比较好': 1, '一般': 2, '较差': 3, '很差': 4, '不脱发': 0, '微微脱发': 1, '较严重脱发': 2, '严重脱发': 3, '图书馆': 0, '寝室': 1, '教室': 2, '其他': 3, '不焦虑': 0, '稍有焦虑': 1, '较严重焦虑': 2, '严重焦虑': 3, '前10%': 0, '10%~20%': 1, '20%~30%': 2, '30%~40%': 3, '40%~50%': 4, '50%~60%': 5, '60%~70%': 6, '70%~80%': 7, '80%~90%': 8, '90%以后': 9}\n"
     ]
    }
   ],
   "source": [
    "# 生成各列类的字典\n",
    "class_name_dict={}\n",
    "for i in range(2,len(class_name)):\n",
    "    for j in range(len(class_name[i])):\n",
    "        class_name_dict[class_name[i][j]] = j\n",
    "print(class_name_dict)\n"
   ]
  },
  {
   "cell_type": "code",
   "execution_count": 16,
   "id": "3935d91218704ed6",
   "metadata": {
    "ExecuteTime": {
     "end_time": "2024-11-03T11:21:53.326996Z",
     "start_time": "2024-11-03T11:21:53.317150Z"
    }
   },
   "outputs": [],
   "source": [
    "# 将地域信息更改为以地区分类，1x为北方地区，2x为东北地区，\n",
    "# 3x东部地区，4x为中部地区，5x为西南地区，6x为西北地区，\n",
    "# 具体可查看province.txt文件，与身份证开头数字一致\n",
    "province_dict={}\n",
    "with open('province.txt','r',encoding='utf-8') as f:\n",
    "    lines=f.readlines()\n",
    "    # print(lines)\n",
    "    for line in lines:\n",
    "        line=line.strip('\\n').split('\\t')\n",
    "        # print(line)\n",
    "        class_name_dict[line[0]] = eval(line[1])"
   ]
  },
  {
   "cell_type": "code",
   "execution_count": 17,
   "id": "8c7a3e7795b5e34b",
   "metadata": {
    "ExecuteTime": {
     "end_time": "2024-11-03T11:21:53.396626Z",
     "start_time": "2024-11-03T11:21:53.380668Z"
    }
   },
   "outputs": [],
   "source": [
    "# 根据class_name_dict字典替换数据集的内容\n",
    "def trans(x):\n",
    "    if type(x)==str:\n",
    "        return class_name_dict[x]\n",
    "    else:\n",
    "        return x\n",
    "\n",
    "data= data.map(trans)\n",
    "data.columns=column_name"
   ]
  },
  {
   "cell_type": "code",
   "execution_count": 18,
   "id": "754daffb46d8af66",
   "metadata": {
    "ExecuteTime": {
     "end_time": "2024-11-03T11:21:53.477962Z",
     "start_time": "2024-11-03T11:21:53.452187Z"
    }
   },
   "outputs": [
    {
     "name": "stdout",
     "output_type": "stream",
     "text": [
      "   Year  Gender  Province  Height  Weight  Unavailable  Shortsight  \\\n",
      "0  2023       0        37   178.0    80.0            0       550.0   \n",
      "1  2023       0        51   173.0    62.0            0       100.0   \n",
      "2  2023       0        43   165.0    60.0            0       500.0   \n",
      "3  2023       0        33   180.0    75.0            0         0.0   \n",
      "4  2023       0        61   179.0    75.0            0       280.0   \n",
      "\n",
      "   Dailymealexp  Riceexp  Monthlyexp  ...  Weeklyfamilyfreq  Weeklyhairwash  \\\n",
      "0            60      0.7        2000  ...               4.0             5.0   \n",
      "1            80      0.5        3000  ...               0.0             6.0   \n",
      "2            30      0.5        2000  ...               1.0             4.0   \n",
      "3            30      1.0        2000  ...               2.0             6.0   \n",
      "4            35      0.8        2200  ...               1.0             7.0   \n",
      "\n",
      "   Healthstatus  Hairloss  Dailyselfstudy  Selfstudyplace  Lessoneffect  \\\n",
      "0             0         0             5.0               0          20.0   \n",
      "1             2         1             6.0               0          20.0   \n",
      "2             2         1             2.0               1          50.0   \n",
      "3             3         0             6.0               0           5.0   \n",
      "4             2         0            10.0               0          50.0   \n",
      "\n",
      "   Weelyworktime  Anxiousstatus  Rank  \n",
      "0            2.0              0     1  \n",
      "1            1.0              1     2  \n",
      "2            3.0              1     4  \n",
      "3            1.0              2     4  \n",
      "4            5.0              2     7  \n",
      "\n",
      "[5 rows x 27 columns]\n"
     ]
    }
   ],
   "source": [
    "print(data.head())"
   ]
  },
  {
   "cell_type": "code",
   "execution_count": 19,
   "id": "b55e0b0a2cf17029",
   "metadata": {
    "ExecuteTime": {
     "end_time": "2024-11-03T11:21:53.541489Z",
     "start_time": "2024-11-03T11:21:53.530049Z"
    }
   },
   "outputs": [
    {
     "name": "stdout",
     "output_type": "stream",
     "text": [
      "<class 'numpy.ndarray'> <class 'numpy.ndarray'>\n",
      "(114, 25) (114,)\n"
     ]
    }
   ],
   "source": [
    "X=data.iloc[:,1:-1].values.astype('float32')\n",
    "y=data.iloc[:,-1].values.astype('float32')\n",
    "\n",
    "print(type(X),type(y))\n",
    "print(X.shape,y.shape)\n",
    "#将单元格类型转换为float32"
   ]
  },
  {
   "cell_type": "code",
   "execution_count": 20,
   "id": "7af31a68c4dbe4da",
   "metadata": {
    "ExecuteTime": {
     "end_time": "2024-11-03T11:21:53.613353Z",
     "start_time": "2024-11-03T11:21:53.603133Z"
    }
   },
   "outputs": [
    {
     "name": "stdout",
     "output_type": "stream",
     "text": [
      "(91, 25) (91,) (23, 25) (23,)\n"
     ]
    }
   ],
   "source": [
    "from sklearn.model_selection import train_test_split\n",
    "\n",
    "X_train, X_test, y_train, y_test = train_test_split(X, y, test_size=0.2)\n",
    "print(X_train.shape,y_train.shape,X_test.shape,y_test.shape)\n",
    "\n"
   ]
  },
  {
   "cell_type": "markdown",
   "id": "829591d0-6760-47e0-98e3-707f484a6072",
   "metadata": {},
   "source": [
    "## KNN算法预测成绩"
   ]
  },
  {
   "cell_type": "code",
   "execution_count": 1,
   "id": "03cdbe57-c7c8-4990-88e1-7300704e4067",
   "metadata": {},
   "outputs": [],
   "source": [
    "# 计算开销过大，无法实现（KNN的维度灾难）\n",
    "# %%time\n",
    "# def mypoly_reg(degree,n_neighbors):\n",
    "#     print(f'degree:{degree},n_neighbor:{n_neighbors}')\n",
    "#     poly_reg = Pipeline([    ###创建名为poly_reg的管道\n",
    "#         #(\"poly\", PolynomialFeatures(degree=degree)),   \n",
    "#         (\"std_scaler\",StandardScaler()),            \n",
    "#         (\"knn_clf\",KNeighborsClassifier(n_neighbors=n_neighbors))              \n",
    "#     ])\n",
    "#     poly_reg.fit(X_train, y_train)\n",
    "#     # plt.scatter(X_train, y_train)\n",
    "#     # plt.plot(np.sort(X_train,axis=0),y_predict[np.argsort(X_train,axis=0)],color = 'r')\n",
    "#     # plt.show()\n",
    "#     # print(\"训练集MSE：\",mean_squared_error(y_train, y_predict))\n",
    "#     # print(\"测试集MSE：\",mean_squared_error(y_test, poly_reg.predict(X_test)))\n",
    "#     # print(f'测试集score:{poly_reg.score(X_test,y_test)}')\n",
    "#     return poly_reg.score(X_test,y_test)\n",
    "\n",
    "# for i in range(1,10):\n",
    "#     for j in range(1,2):\n",
    "#         score = mypoly_reg(i,j)\n",
    "#         print(f'score:{score:.4f}')"
   ]
  },
  {
   "cell_type": "markdown",
   "id": "739d4b06-072e-4bfb-8d83-4fd335f92f05",
   "metadata": {},
   "source": [
    "使用GridSearchCV搜索最合适的值"
   ]
  },
  {
   "cell_type": "code",
   "execution_count": 22,
   "id": "652b7d84-0073-4a1a-963a-8072cd66a7bc",
   "metadata": {},
   "outputs": [],
   "source": [
    "# # 定义网格搜索参数\n",
    "# param_grid = [\n",
    "#     {\n",
    "        \n",
    "#         'KNN__weights': ['uniform'],\n",
    "#         'KNN__n_neighbors': [i for i in range(1, 11)],\n",
    "#         'poly__degree':[i for i in range(1,10)]\n",
    "#     },\n",
    "#     {\n",
    "#         'KNN__weights': ['distance'],\n",
    "#         'KNN__n_neighbors': [i for i in range(1, 11)],\n",
    "#         'KNN__p': [i for i in range(1, 6)],\n",
    "#         'poly__degree':[i for i in range(1,10)]\n",
    "#     }\n",
    "# ]\n",
    "# poly_reg = Pipeline([    ###创建名为poly_reg的管道\n",
    "#     (\"poly\", PolynomialFeatures()),         \n",
    "#     (\"KNN\",KNeighborsClassifier())              \n",
    "# ])\n",
    "# grid_search = GridSearchCV(poly_reg, param_grid,cv=2, n_jobs=1, verbose=1) "
   ]
  },
  {
   "cell_type": "code",
   "execution_count": 23,
   "id": "e4f62fee-11e5-4c4a-a3a3-5bf6990c1fd2",
   "metadata": {},
   "outputs": [],
   "source": [
    "# grid_search.fit(X_train, y_train) # 计算开销过大，无法运行，爆内存"
   ]
  },
  {
   "cell_type": "code",
   "execution_count": 24,
   "id": "92ce6dbe-a9ff-4fab-af39-974b081e80da",
   "metadata": {},
   "outputs": [
    {
     "name": "stdout",
     "output_type": "stream",
     "text": [
      "Counter({np.float32(4.0): 16, np.float32(1.0): 14, np.float32(7.0): 13, np.float32(3.0): 10, np.float32(2.0): 10, np.float32(5.0): 8, np.float32(6.0): 7, np.float32(0.0): 7, np.float32(9.0): 4, np.float32(8.0): 2})\n"
     ]
    }
   ],
   "source": []
  },
  {
   "cell_type": "code",
   "execution_count": null,
   "id": "a5ad09c7-5f78-47cb-b5c0-2707e5c152c3",
   "metadata": {},
   "outputs": [],
   "source": []
  }
 ],
 "metadata": {
  "kernelspec": {
   "display_name": "Python 3 (ipykernel)",
   "language": "python",
   "name": "python3"
  },
  "language_info": {
   "codemirror_mode": {
    "name": "ipython",
    "version": 3
   },
   "file_extension": ".py",
   "mimetype": "text/x-python",
   "name": "python",
   "nbconvert_exporter": "python",
   "pygments_lexer": "ipython3",
   "version": "3.13.0"
  },
  "widgets": {
   "application/vnd.jupyter.widget-state+json": {
    "state": {},
    "version_major": 2,
    "version_minor": 0
   }
  }
 },
 "nbformat": 4,
 "nbformat_minor": 5
}
