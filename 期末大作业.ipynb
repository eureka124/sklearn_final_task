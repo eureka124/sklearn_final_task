{
 "cells": [
  {
   "cell_type": "code",
   "execution_count": 16,
   "id": "initial_id",
   "metadata": {
    "ExecuteTime": {
     "end_time": "2024-11-03T11:21:52.873768Z",
     "start_time": "2024-11-03T11:21:52.866606Z"
    }
   },
   "outputs": [],
   "source": [
    "import pandas as pd\n",
    "import numpy as np\n",
    "import matplotlib.pyplot as plt\n",
    "from sklearn.neighbors import KNeighborsClassifier\n"
   ]
  },
  {
   "cell_type": "code",
   "execution_count": 17,
   "id": "671cc6f62e385af7",
   "metadata": {
    "ExecuteTime": {
     "end_time": "2024-11-03T11:21:52.914243Z",
     "start_time": "2024-11-03T11:21:52.897226Z"
    }
   },
   "outputs": [
    {
     "name": "stdout",
     "output_type": "stream",
     "text": [
      "[['114', '27'], ['Year', 'Gender', 'Province', 'Height', 'Weight', 'Unavailable', 'Shortsight', 'Dailymealexp', 'Riceexp', 'Monthlyexp', 'Weeklytakeout', 'Monthlyshopping', 'Sleeptime', 'Timefallasleep', 'Dailyslidetime', 'Dailygametime', 'Dailysporttime', 'Weeklyfamilyfreq', 'Weeklyhairwash', 'Healthstatus', 'Hairloss', 'Dailyselfstudy', 'Selfstudyplace', 'Lessoneffect', 'Weelyworktime', 'Anxiousstatus', 'Rank'], ['男', '女'], ['北京市', '天津市', '山西省', '河北省', '内蒙古自治区', '黑龙江省', '吉林省', '辽宁省', '上海市', '江苏省', '浙江省', '安徽省', '福建省', '江西省', '山东省', '河南省', '湖北省', '湖南省', '广东省', '广西壮族自治区', '海南省', '四川省', '贵州省', '云南省', '重庆市', '西藏自治区', '陕西省', '甘肃省', '青海省', '宁夏回族自治区', '新疆维吾尔自治区', '香港特别行政区', '澳门特别行政区', '台湾省'], ['否', '是'], ['22:00以前', '22:00~22:30', '22:30~23:00', '23:00~23:30', '23:30~00:00', '00:00~00:30', '00:30~01:00', '01:00~01:30', '01:30~02:00', '02:00以后'], ['非常好', '比较好', '一般', '较差', '很差'], ['不脱发', '微微脱发', '较严重脱发', '严重脱发'], ['图书馆', '寝室', '教室', '其他'], ['不焦虑', '稍有焦虑', '较严重焦虑', '严重焦虑'], ['前10%', '10%~20%', '20%~30%', '30%~40%', '40%~50%', '50%~60%', '60%~70%', '70%~80%', '80%~90%', '90%以后']]\n"
     ]
    }
   ],
   "source": [
    "# 读取classname.csv\n",
    "\n",
    "class_name=[]# 用于存放classname.csv中各单元格的内容\n",
    "with open(\"undergraduate_dataset_classname.csv\",'r',encoding='utf-8-sig') as f:\n",
    "    #需使用utf-8-sig编码，否则会出现第一行出现['\\ufeff114', '27']\n",
    "    classname_lines=f.readlines()\n",
    "    for line in classname_lines:\n",
    "        cell=line.strip('\\n').split(',')[:-1]\n",
    "        line_list=list(filter(None, cell))# 过滤掉空白单元格,再转化为list\n",
    "        class_name.append(line_list)\n",
    "    print(class_name)\n",
    "    column_name=class_name[1]# class_name中第二个列表为数据各列的列名\n",
    "\n",
    "data=pd.read_csv('undergraduate_dataset.csv',header=0)\n",
    "\n"
   ]
  },
  {
   "cell_type": "code",
   "execution_count": 18,
   "id": "41dd7c472f19fe11",
   "metadata": {
    "ExecuteTime": {
     "end_time": "2024-11-03T11:21:53.128269Z",
     "start_time": "2024-11-03T11:21:53.118365Z"
    }
   },
   "outputs": [
    {
     "name": "stdout",
     "output_type": "stream",
     "text": [
      "{'男': 0, '女': 1, '北京市': 0, '天津市': 1, '山西省': 2, '河北省': 3, '内蒙古自治区': 4, '黑龙江省': 5, '吉林省': 6, '辽宁省': 7, '上海市': 8, '江苏省': 9, '浙江省': 10, '安徽省': 11, '福建省': 12, '江西省': 13, '山东省': 14, '河南省': 15, '湖北省': 16, '湖南省': 17, '广东省': 18, '广西壮族自治区': 19, '海南省': 20, '四川省': 21, '贵州省': 22, '云南省': 23, '重庆市': 24, '西藏自治区': 25, '陕西省': 26, '甘肃省': 27, '青海省': 28, '宁夏回族自治区': 29, '新疆维吾尔自治区': 30, '香港特别行政区': 31, '澳门特别行政区': 32, '台湾省': 33, '否': 0, '是': 1, '22:00以前': 0, '22:00~22:30': 1, '22:30~23:00': 2, '23:00~23:30': 3, '23:30~00:00': 4, '00:00~00:30': 5, '00:30~01:00': 6, '01:00~01:30': 7, '01:30~02:00': 8, '02:00以后': 9, '非常好': 0, '比较好': 1, '一般': 2, '较差': 3, '很差': 4, '不脱发': 0, '微微脱发': 1, '较严重脱发': 2, '严重脱发': 3, '图书馆': 0, '寝室': 1, '教室': 2, '其他': 3, '不焦虑': 0, '稍有焦虑': 1, '较严重焦虑': 2, '严重焦虑': 3, '前10%': 0, '10%~20%': 1, '20%~30%': 2, '30%~40%': 3, '40%~50%': 4, '50%~60%': 5, '60%~70%': 6, '70%~80%': 7, '80%~90%': 8, '90%以后': 9}\n"
     ]
    }
   ],
   "source": [
    "# 生成各列类的字典\n",
    "class_name_dict={}\n",
    "for i in range(2,len(class_name)):\n",
    "    for j in range(len(class_name[i])):\n",
    "        class_name_dict[class_name[i][j]] = j\n",
    "print(class_name_dict)\n"
   ]
  },
  {
   "cell_type": "code",
   "execution_count": 19,
   "id": "3935d91218704ed6",
   "metadata": {
    "ExecuteTime": {
     "end_time": "2024-11-03T11:21:53.326996Z",
     "start_time": "2024-11-03T11:21:53.317150Z"
    }
   },
   "outputs": [],
   "source": [
    "# 将地域信息更改为以地区分类，1x为北方地区，2x为东北地区，\n",
    "# 3x东部地区，4x为中部地区，5x为西南地区，6x为西北地区，\n",
    "# 具体可查看province.txt文件，与身份证开头数字一致\n",
    "province_dict={}\n",
    "with open('province.txt','r',encoding='utf-8') as f:\n",
    "    lines=f.readlines()\n",
    "    # print(lines)\n",
    "    for line in lines:\n",
    "        line=line.strip('\\n').split('\\t')\n",
    "        # print(line)\n",
    "        class_name_dict[line[0]] = eval(line[1])"
   ]
  },
  {
   "cell_type": "code",
   "execution_count": 20,
   "id": "8c7a3e7795b5e34b",
   "metadata": {
    "ExecuteTime": {
     "end_time": "2024-11-03T11:21:53.396626Z",
     "start_time": "2024-11-03T11:21:53.380668Z"
    }
   },
   "outputs": [],
   "source": [
    "# 根据\n",
    "def trans(x):\n",
    "    if type(x)==str:\n",
    "        return class_name_dict[x]\n",
    "    else:\n",
    "        return x\n",
    "\n",
    "data= data.map(trans)\n",
    "data.columns=column_name"
   ]
  },
  {
   "cell_type": "code",
   "execution_count": 21,
   "id": "754daffb46d8af66",
   "metadata": {
    "ExecuteTime": {
     "end_time": "2024-11-03T11:21:53.477962Z",
     "start_time": "2024-11-03T11:21:53.452187Z"
    }
   },
   "outputs": [
    {
     "name": "stdout",
     "output_type": "stream",
     "text": [
      "   Year  Gender  Province  Height  Weight  Unavailable  Shortsight  \\\n",
      "0  2023       0        37   178.0    80.0            0       550.0   \n",
      "1  2023       0        51   173.0    62.0            0       100.0   \n",
      "2  2023       0        43   165.0    60.0            0       500.0   \n",
      "3  2023       0        33   180.0    75.0            0         0.0   \n",
      "4  2023       0        61   179.0    75.0            0       280.0   \n",
      "\n",
      "   Dailymealexp  Riceexp  Monthlyexp  ...  Weeklyfamilyfreq  Weeklyhairwash  \\\n",
      "0            60      0.7        2000  ...               4.0             5.0   \n",
      "1            80      0.5        3000  ...               0.0             6.0   \n",
      "2            30      0.5        2000  ...               1.0             4.0   \n",
      "3            30      1.0        2000  ...               2.0             6.0   \n",
      "4            35      0.8        2200  ...               1.0             7.0   \n",
      "\n",
      "   Healthstatus  Hairloss  Dailyselfstudy  Selfstudyplace  Lessoneffect  \\\n",
      "0             0         0             5.0               0          20.0   \n",
      "1             2         1             6.0               0          20.0   \n",
      "2             2         1             2.0               1          50.0   \n",
      "3             3         0             6.0               0           5.0   \n",
      "4             2         0            10.0               0          50.0   \n",
      "\n",
      "   Weelyworktime  Anxiousstatus  Rank  \n",
      "0            2.0              0     1  \n",
      "1            1.0              1     2  \n",
      "2            3.0              1     4  \n",
      "3            1.0              2     4  \n",
      "4            5.0              2     7  \n",
      "\n",
      "[5 rows x 27 columns]\n"
     ]
    }
   ],
   "source": [
    "print(data.head())"
   ]
  },
  {
   "cell_type": "code",
   "execution_count": 22,
   "id": "b55e0b0a2cf17029",
   "metadata": {
    "ExecuteTime": {
     "end_time": "2024-11-03T11:21:53.541489Z",
     "start_time": "2024-11-03T11:21:53.530049Z"
    }
   },
   "outputs": [
    {
     "name": "stdout",
     "output_type": "stream",
     "text": [
      "<class 'numpy.ndarray'> <class 'numpy.ndarray'>\n",
      "(114, 26) (114,)\n"
     ]
    }
   ],
   "source": [
    "X=data.iloc[:,:-1].values\n",
    "y=data.iloc[:,-1].values\n",
    "print(type(X),type(y))\n",
    "print(X.shape,y.shape)"
   ]
  },
  {
   "cell_type": "code",
   "execution_count": 23,
   "id": "7af31a68c4dbe4da",
   "metadata": {
    "ExecuteTime": {
     "end_time": "2024-11-03T11:21:53.613353Z",
     "start_time": "2024-11-03T11:21:53.603133Z"
    }
   },
   "outputs": [
    {
     "name": "stdout",
     "output_type": "stream",
     "text": [
      "(91, 26) (91,) (23, 26) (23,)\n"
     ]
    }
   ],
   "source": [
    "from sklearn.model_selection import train_test_split\n",
    "\n",
    "X_train, X_test, y_train, y_test = train_test_split(X, y, test_size=0.2, random_state=0)\n",
    "print(X_train.shape,y_train.shape,X_test.shape,y_test.shape)"
   ]
  },
  {
   "cell_type": "code",
   "execution_count": 24,
   "id": "64c841fde921f6e3",
   "metadata": {
    "ExecuteTime": {
     "end_time": "2024-11-03T11:21:53.704360Z",
     "start_time": "2024-11-03T11:21:53.698920Z"
    }
   },
   "outputs": [],
   "source": [
    "from sklearn.neighbors import KNeighborsClassifier\n",
    "from sklearn.pipeline import Pipeline\n",
    "model=Pipeline(\n",
    "    (\"\")\n",
    ")"
   ]
  },
  {
   "cell_type": "code",
   "execution_count": 25,
   "id": "e04bd8cc688daea4",
   "metadata": {
    "ExecuteTime": {
     "end_time": "2024-11-03T11:21:53.767335Z",
     "start_time": "2024-11-03T11:21:53.759644Z"
    }
   },
   "outputs": [
    {
     "name": "stdout",
     "output_type": "stream",
     "text": [
      "(114, 27)\n"
     ]
    }
   ],
   "source": [
    "print(data.shape)"
   ]
  },
  {
   "cell_type": "code",
   "execution_count": 26,
   "id": "a522580a0c3616b5",
   "metadata": {
    "ExecuteTime": {
     "end_time": "2024-11-03T11:21:53.869852Z",
     "start_time": "2024-11-03T11:21:53.860195Z"
    }
   },
   "outputs": [
    {
     "name": "stdout",
     "output_type": "stream",
     "text": [
      "(114, 28)\n"
     ]
    }
   ],
   "source": [
    "BMI=data.Weight/(data.Height/100)**2\n",
    "data['BMI']=BMI\n",
    "print(data.shape)"
   ]
  },
  {
   "cell_type": "code",
   "execution_count": 27,
   "id": "1eeef502da966887",
   "metadata": {
    "ExecuteTime": {
     "end_time": "2024-11-03T11:21:53.975508Z",
     "start_time": "2024-11-03T11:21:53.965383Z"
    }
   },
   "outputs": [],
   "source": [
    "X=pd.concat([data.Province,data.Dailymealexp,data.Dailysporttime],axis=1)\n",
    "y=data.BMI"
   ]
  },
  {
   "cell_type": "code",
   "execution_count": 28,
   "id": "c3d32734f9015ee5",
   "metadata": {
    "ExecuteTime": {
     "end_time": "2024-11-03T11:21:54.394083Z",
     "start_time": "2024-11-03T11:21:54.036541Z"
    }
   },
   "outputs": [
    {
     "name": "stdout",
     "output_type": "stream",
     "text": [
      "(91, 3) (91,) (23, 3) (23,)\n"
     ]
    },
    {
     "data": {
      "text/plain": [
       "<matplotlib.collections.PathCollection at 0x2ac9d3dc050>"
      ]
     },
     "execution_count": 28,
     "metadata": {},
     "output_type": "execute_result"
    },
    {
     "data": {
      "image/png": "[encoded data removed]",
      "text/plain": [
       "<Figure size 640x480 with 1 Axes>"
      ]
     },
     "metadata": {},
     "output_type": "display_data"
    }
   ],
   "source": [
    "X_train, X_test, y_train, y_test = train_test_split(X, y, test_size=0.2)\n",
    "print(X_train.shape,y_train.shape,X_test.shape,y_test.shape)\n",
    "X_train=X_train.values\n",
    "plt.scatter(X_train[:,1],X_train[:,2])"
   ]
  },
  {
   "cell_type": "code",
   "execution_count": 29,
   "id": "4d23877857d0c60f",
   "metadata": {
    "ExecuteTime": {
     "end_time": "2024-11-03T11:21:54.470572Z",
     "start_time": "2024-11-03T11:21:54.450614Z"
    }
   },
   "outputs": [
    {
     "name": "stderr",
     "output_type": "stream",
     "text": [
      "C:\\Users\\1806476094\\.conda\\envs\\test\\Lib\\site-packages\\sklearn\\base.py:486: UserWarning: X has feature names, but LinearRegression was fitted without feature names\n",
      "  warnings.warn(\n"
     ]
    },
    {
     "data": {
      "text/plain": [
       "-0.7631307692105256"
      ]
     },
     "execution_count": 29,
     "metadata": {},
     "output_type": "execute_result"
    }
   ],
   "source": [
    "from sklearn.linear_model import LinearRegression\n",
    "model=LinearRegression()\n",
    "model.fit(X_train,y_train)\n",
    "model.score(X_test,y_test)"
   ]
  },
  {
   "cell_type": "code",
   "execution_count": 30,
   "id": "b03e7dfd539b9dba",
   "metadata": {
    "ExecuteTime": {
     "end_time": "2024-11-03T11:21:54.838492Z",
     "start_time": "2024-11-03T11:21:54.578562Z"
    }
   },
   "outputs": [
    {
     "data": {
      "image/png": "[encoded data removed]",
      "text/plain": [
       "<Figure size 640x480 with 1 Axes>"
      ]
     },
     "metadata": {},
     "output_type": "display_data"
    }
   ],
   "source": [
    "plt.scatter(data.Weight.values,data.Height.values)\n",
    "# plt.scatter(data.Province.values,data.Dailymealexp.values)\n",
    "plt.show()"
   ]
  },
  {
   "cell_type": "code",
   "execution_count": null,
   "id": "21a9bbce60f60a7d",
   "metadata": {
    "ExecuteTime": {
     "end_time": "2024-11-03T11:21:54.876461Z",
     "start_time": "2024-11-03T11:21:54.871750Z"
    }
   },
   "outputs": [],
   "source": []
  },
  {
   "cell_type": "code",
   "execution_count": null,
   "id": "1cd5baef778ebe31",
   "metadata": {
    "ExecuteTime": {
     "end_time": "2024-11-03T11:21:54.933822Z",
     "start_time": "2024-11-03T11:21:54.929484Z"
    }
   },
   "outputs": [],
   "source": []
  }
 ],
 "metadata": {
  "kernelspec": {
   "display_name": "Python 3 (ipykernel)",
   "language": "python",
   "name": "python3"
  },
  "language_info": {
   "codemirror_mode": {
    "name": "ipython",
    "version": 3
   },
   "file_extension": ".py",
   "mimetype": "text/x-python",
   "name": "python",
   "nbconvert_exporter": "python",
   "pygments_lexer": "ipython3",
   "version": "3.13.0"
  },
  "widgets": {
   "application/vnd.jupyter.widget-state+json": {
    "state": {},
    "version_major": 2,
    "version_minor": 0
   }
  }
 },
 "nbformat": 4,
 "nbformat_minor": 5
}
