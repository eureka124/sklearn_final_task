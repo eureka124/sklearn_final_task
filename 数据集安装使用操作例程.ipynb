{
 "cells": [
  {
   "cell_type": "markdown",
   "id": "f536edcb",
   "metadata": {},
   "source": [
    "## <span style=\"color: red;\">确保两个.csv文件、.py文件、.ipynb文件在一个文件夹下"
   ]
  },
  {
   "cell_type": "markdown",
   "id": "c72b6d65",
   "metadata": {},
   "source": [
    "# <span style=\"color: blue;\">（1）数据集的安装使用"
   ]
  },
  {
   "cell_type": "markdown",
   "id": "7fe3719d",
   "metadata": {},
   "source": [
    "### 运行.py文件，安装数据集"
   ]
  },
  {
   "cell_type": "code",
   "execution_count": 1,
   "id": "affa7103",
   "metadata": {},
   "outputs": [],
   "source": [
    "%run dataset_setup.py"
   ]
  },
  {
   "cell_type": "markdown",
   "id": "f6bfcad5",
   "metadata": {},
   "source": [
    "### 加载数据集"
   ]
  },
  {
   "cell_type": "code",
   "execution_count": 2,
   "id": "12022fa5",
   "metadata": {},
   "outputs": [],
   "source": [
    "dataset = load_undergraduate_dataset()"
   ]
  },
  {
   "cell_type": "markdown",
   "id": "1d5412d9",
   "metadata": {},
   "source": [
    "### 查看数据集所有键（数据集为词典，键值对形式）"
   ]
  },
  {
   "cell_type": "code",
   "execution_count": 3,
   "id": "0b6a1ebc",
   "metadata": {},
   "outputs": [
    {
     "data": {
      "text/plain": [
       "dict_keys(['n_samples', 'n_features', 'classname_filepath', 'dataset_filepath', 'all_feature_descr', 'all_feature_names', 'Gender_class', 'Province_class', 'Unavailable_class', 'Timefallasleep_class', 'Healthstatus_class', 'Hairloss_class', 'Selfstudyplace_class', 'Anxiousstatus_class', 'Rank_class', 'Year', 'Gender', 'Province', 'Height', 'Weight', 'Unavailable', 'Shortsight', 'Dailymealexp', 'Riceexp', 'Monthlyexp', 'Weeklytakeout', 'Monthlyshopping', 'Sleeptime', 'Timefallasleep', 'Dailyslidetime', 'Dailygametime', 'Dailysporttime', 'Weeklyfamilyfreq', 'Weeklyhairwash', 'Healthstatus', 'Hairloss', 'Dailyselfstudy', 'Selfstudyplace', 'Lessoneffect', 'Weelyworktime', 'Anxiousstatus', 'Rank'])"
      ]
     },
     "execution_count": 3,
     "metadata": {},
     "output_type": "execute_result"
    }
   ],
   "source": [
    "dataset.keys()"
   ]
  },
  {
   "cell_type": "markdown",
   "id": "d3d9ffec",
   "metadata": {},
   "source": [
    "### 查看数据集样本总数"
   ]
  },
  {
   "cell_type": "code",
   "execution_count": 4,
   "id": "589b5278",
   "metadata": {},
   "outputs": [
    {
     "data": {
      "text/plain": [
       "114"
      ]
     },
     "execution_count": 4,
     "metadata": {},
     "output_type": "execute_result"
    }
   ],
   "source": [
    "dataset.n_samples"
   ]
  },
  {
   "cell_type": "markdown",
   "id": "5ea0e4da",
   "metadata": {},
   "source": [
    "### 查看数据集特征总数"
   ]
  },
  {
   "cell_type": "code",
   "execution_count": 5,
   "id": "f3bc8620",
   "metadata": {},
   "outputs": [
    {
     "data": {
      "text/plain": [
       "27"
      ]
     },
     "execution_count": 5,
     "metadata": {},
     "output_type": "execute_result"
    }
   ],
   "source": [
    "dataset.n_features"
   ]
  },
  {
   "cell_type": "markdown",
   "id": "caf638f1",
   "metadata": {},
   "source": [
    "### 查看数据集文件所在路径"
   ]
  },
  {
   "cell_type": "code",
   "execution_count": 6,
   "id": "a29d8d21",
   "metadata": {},
   "outputs": [
    {
     "data": {
      "text/plain": [
       "'C:\\\\Users\\\\ejang\\\\_jupyter_notebook_\\\\MLCourse\\\\期末大作业\\\\undergraduate_dataset.csv'"
      ]
     },
     "execution_count": 6,
     "metadata": {},
     "output_type": "execute_result"
    }
   ],
   "source": [
    "dataset.dataset_filepath"
   ]
  },
  {
   "cell_type": "markdown",
   "id": "ea5de636",
   "metadata": {},
   "source": [
    "### 查看数据集中分类数据的类别文件所在路径"
   ]
  },
  {
   "cell_type": "code",
   "execution_count": 7,
   "id": "f3a7b9c7",
   "metadata": {},
   "outputs": [
    {
     "data": {
      "text/plain": [
       "'C:\\\\Users\\\\ejang\\\\_jupyter_notebook_\\\\MLCourse\\\\期末大作业\\\\undergraduate_dataset_classname.csv'"
      ]
     },
     "execution_count": 7,
     "metadata": {},
     "output_type": "execute_result"
    }
   ],
   "source": [
    "dataset.classname_filepath"
   ]
  },
  {
   "cell_type": "markdown",
   "id": "712b5a79",
   "metadata": {},
   "source": [
    "### 查看所有特征的具体描述"
   ]
  },
  {
   "cell_type": "code",
   "execution_count": 8,
   "id": "0248b66a",
   "metadata": {
    "scrolled": true
   },
   "outputs": [
    {
     "data": {
      "text/plain": [
       "['年份',\n",
       " '性别',\n",
       " '出生地',\n",
       " '身高（cm）',\n",
       " '体重（kg）',\n",
       " '是否脱单',\n",
       " '近视度数（两眼平均）',\n",
       " '平均每天吃饭花费',\n",
       " '平均每次吃多少米饭',\n",
       " '每月生活费',\n",
       " '每周点外卖次数',\n",
       " '每月网购次数',\n",
       " '平均每天睡眠时长（小时）',\n",
       " '平均每天入睡时间',\n",
       " '平均每天刷手机时长（小时）',\n",
       " '平均每天打游戏时长（小时）',\n",
       " '平均每天运动时长（小时）',\n",
       " '每周和父母联系次数',\n",
       " '每周洗头次数',\n",
       " '身体状况自我评价',\n",
       " '脱发情况自我评价',\n",
       " '平均每天自习时长（小时）',\n",
       " '最常去的自习场所',\n",
       " '上课时有效听课时间占比（%）',\n",
       " '平均每周完成作业用时（小时）',\n",
       " '焦虑状况自我评价',\n",
       " '班级成绩排名']"
      ]
     },
     "execution_count": 8,
     "metadata": {},
     "output_type": "execute_result"
    }
   ],
   "source": [
    "dataset.all_feature_descr"
   ]
  },
  {
   "cell_type": "markdown",
   "id": "17b49845",
   "metadata": {},
   "source": [
    "### 查看所有特征名（对应上方具体描述）"
   ]
  },
  {
   "cell_type": "code",
   "execution_count": 9,
   "id": "0b90f9f8",
   "metadata": {
    "scrolled": true
   },
   "outputs": [
    {
     "data": {
      "text/plain": [
       "['Year',\n",
       " 'Gender',\n",
       " 'Province',\n",
       " 'Height',\n",
       " 'Weight',\n",
       " 'Unavailable',\n",
       " 'Shortsight',\n",
       " 'Dailymealexp',\n",
       " 'Riceexp',\n",
       " 'Monthlyexp',\n",
       " 'Weeklytakeout',\n",
       " 'Monthlyshopping',\n",
       " 'Sleeptime',\n",
       " 'Timefallasleep',\n",
       " 'Dailyslidetime',\n",
       " 'Dailygametime',\n",
       " 'Dailysporttime',\n",
       " 'Weeklyfamilyfreq',\n",
       " 'Weeklyhairwash',\n",
       " 'Healthstatus',\n",
       " 'Hairloss',\n",
       " 'Dailyselfstudy',\n",
       " 'Selfstudyplace',\n",
       " 'Lessoneffect',\n",
       " 'Weelyworktime',\n",
       " 'Anxiousstatus',\n",
       " 'Rank']"
      ]
     },
     "execution_count": 9,
     "metadata": {},
     "output_type": "execute_result"
    }
   ],
   "source": [
    "dataset.all_feature_names"
   ]
  },
  {
   "cell_type": "markdown",
   "id": "ccdd75fe",
   "metadata": {},
   "source": [
    "### 查看所有样本性别分类数据"
   ]
  },
  {
   "cell_type": "code",
   "execution_count": 10,
   "id": "906d43c2",
   "metadata": {
    "scrolled": true
   },
   "outputs": [
    {
     "data": {
      "text/plain": [
       "array([0., 0., 0., 0., 0., 0., 0., 0., 1., 1., 0., 0., 0., 0., 0., 0., 0.,\n",
       "       0., 0., 0., 0., 0., 0., 0., 0., 0., 1., 1., 0., 0., 0., 0., 1., 1.,\n",
       "       0., 0., 0., 0., 0., 0., 0., 0., 0., 1., 0., 0., 0., 0., 0., 0., 0.,\n",
       "       0., 0., 0., 0., 0., 0., 1., 0., 0., 0., 0., 0., 0., 0., 0., 1., 0.,\n",
       "       0., 0., 0., 0., 0., 0., 0., 0., 1., 0., 0., 0., 0., 0., 0., 0., 1.,\n",
       "       0., 0., 0., 0., 0., 1., 0., 1., 0., 0., 1., 1., 0., 0., 0., 1., 0.,\n",
       "       0., 1., 0., 0., 0., 0., 0., 1., 1., 0., 0., 0.])"
      ]
     },
     "execution_count": 10,
     "metadata": {},
     "output_type": "execute_result"
    }
   ],
   "source": [
    "dataset.Gender"
   ]
  },
  {
   "cell_type": "markdown",
   "id": "05e5b845",
   "metadata": {},
   "source": [
    "### 查看性别分类中0、1的含义"
   ]
  },
  {
   "cell_type": "code",
   "execution_count": 11,
   "id": "8c349daa",
   "metadata": {
    "scrolled": true
   },
   "outputs": [
    {
     "data": {
      "text/plain": [
       "['[0]男', '[1]女']"
      ]
     },
     "execution_count": 11,
     "metadata": {},
     "output_type": "execute_result"
    }
   ],
   "source": [
    "dataset.Gender_class"
   ]
  },
  {
   "cell_type": "markdown",
   "id": "8be9f565",
   "metadata": {},
   "source": [
    "### 查看所有样本脱发分类数据"
   ]
  },
  {
   "cell_type": "code",
   "execution_count": 12,
   "id": "45326e6a",
   "metadata": {
    "scrolled": true
   },
   "outputs": [
    {
     "data": {
      "text/plain": [
       "array([0., 1., 1., 0., 0., 1., 0., 1., 0., 2., 0., 0., 2., 1., 0., 0., 0.,\n",
       "       0., 0., 1., 0., 0., 1., 1., 0., 0., 1., 1., 0., 0., 0., 0., 0., 1.,\n",
       "       1., 1., 1., 1., 0., 0., 1., 0., 0., 1., 1., 1., 0., 0., 1., 1., 1.,\n",
       "       1., 0., 1., 0., 0., 0., 1., 0., 0., 1., 0., 1., 0., 1., 1., 2., 1.,\n",
       "       1., 1., 0., 1., 0., 1., 0., 2., 1., 0., 0., 1., 1., 1., 1., 1., 0.,\n",
       "       1., 0., 1., 1., 1., 2., 1., 1., 0., 0., 2., 0., 1., 0., 1., 1., 0.,\n",
       "       0., 1., 0., 1., 0., 1., 0., 1., 2., 1., 0., 1.])"
      ]
     },
     "execution_count": 12,
     "metadata": {},
     "output_type": "execute_result"
    }
   ],
   "source": [
    "dataset.Hairloss"
   ]
  },
  {
   "cell_type": "markdown",
   "id": "6a1dfcb2",
   "metadata": {},
   "source": [
    "### 查看脱发分类数据的含义"
   ]
  },
  {
   "cell_type": "code",
   "execution_count": 13,
   "id": "76e654e7",
   "metadata": {},
   "outputs": [
    {
     "data": {
      "text/plain": [
       "['[0]不脱发', '[1]微微脱发', '[2]较严重脱发', '[3]严重脱发']"
      ]
     },
     "execution_count": 13,
     "metadata": {},
     "output_type": "execute_result"
    }
   ],
   "source": [
    "dataset.Hairloss_class"
   ]
  },
  {
   "cell_type": "markdown",
   "id": "e9ba3b03",
   "metadata": {},
   "source": [
    "### 查看所有身高数据，这是连续，不是分类数据"
   ]
  },
  {
   "cell_type": "code",
   "execution_count": 14,
   "id": "f2410ea5",
   "metadata": {
    "scrolled": true
   },
   "outputs": [
    {
     "data": {
      "text/plain": [
       "array([178. , 173. , 165. , 180. , 179. , 175. , 188. , 175. , 165. ,\n",
       "       170. , 188. , 160. , 178. , 173. , 175. , 180. , 175. , 178. ,\n",
       "       182. , 180. , 175. , 178.8, 182. , 180. , 188. , 176. , 160. ,\n",
       "       160. , 183. , 173. , 178. , 179. , 170. , 160. , 180. , 187. ,\n",
       "       178. , 175. , 173. , 166. , 178. , 179. , 183. , 162. , 183. ,\n",
       "       185. , 170. , 182. , 181. , 160. , 175. , 180. , 170. , 168. ,\n",
       "       175. , 172. , 163. , 170. , 170. , 180. , 170. , 173. , 172. ,\n",
       "       169. , 176. , 160. , 165. , 185. , 185. , 177. , 180. , 165. ,\n",
       "       170. , 170. , 175. , 175. , 163. , 181. , 171. , 175. , 182. ,\n",
       "       175. , 178. , 181. , 158. , 172. , 180. , 175. , 165. , 172. ,\n",
       "       160. , 167. , 156. , 171. , 184. , 162. , 163. , 184. , 178. ,\n",
       "       186. , 168. , 175. , 173. , 162. , 178. , 168. , 170. , 175. ,\n",
       "       171. , 165. , 155. , 170. , 170. , 171. ])"
      ]
     },
     "execution_count": 14,
     "metadata": {},
     "output_type": "execute_result"
    }
   ],
   "source": [
    "dataset.Height"
   ]
  },
  {
   "cell_type": "markdown",
   "id": "77251743",
   "metadata": {},
   "source": [
    "### 将性别分类值从浮点型改成整型\n",
    "\n",
    "### <span style=\"color: red;\">注意：数据集中，所有分类值均为浮点型。如果在解决分类问题时需要改成整型使用，可以调用函数astype(np.int)"
   ]
  },
  {
   "cell_type": "code",
   "execution_count": 15,
   "id": "ddd60ec0",
   "metadata": {},
   "outputs": [],
   "source": [
    "gender = dataset.Gender.astype(np.int)"
   ]
  },
  {
   "cell_type": "markdown",
   "id": "abfac1ca",
   "metadata": {},
   "source": [
    "### 查看改为整型后，性别分类数值，注意数字后面不再带点."
   ]
  },
  {
   "cell_type": "code",
   "execution_count": 16,
   "id": "d5ad6301",
   "metadata": {
    "scrolled": true
   },
   "outputs": [
    {
     "data": {
      "text/plain": [
       "array([0, 0, 0, 0, 0, 0, 0, 0, 1, 1, 0, 0, 0, 0, 0, 0, 0, 0, 0, 0, 0, 0,\n",
       "       0, 0, 0, 0, 1, 1, 0, 0, 0, 0, 1, 1, 0, 0, 0, 0, 0, 0, 0, 0, 0, 1,\n",
       "       0, 0, 0, 0, 0, 0, 0, 0, 0, 0, 0, 0, 0, 1, 0, 0, 0, 0, 0, 0, 0, 0,\n",
       "       1, 0, 0, 0, 0, 0, 0, 0, 0, 0, 1, 0, 0, 0, 0, 0, 0, 0, 1, 0, 0, 0,\n",
       "       0, 0, 1, 0, 1, 0, 0, 1, 1, 0, 0, 0, 1, 0, 0, 1, 0, 0, 0, 0, 0, 1,\n",
       "       1, 0, 0, 0])"
      ]
     },
     "execution_count": 16,
     "metadata": {},
     "output_type": "execute_result"
    }
   ],
   "source": [
    "gender"
   ]
  },
  {
   "cell_type": "markdown",
   "id": "ecaceff3",
   "metadata": {},
   "source": [
    "### 查看此时性别数据类型，已变为int32"
   ]
  },
  {
   "cell_type": "code",
   "execution_count": 17,
   "id": "1899d576",
   "metadata": {},
   "outputs": [
    {
     "data": {
      "text/plain": [
       "dtype('int32')"
      ]
     },
     "execution_count": 17,
     "metadata": {},
     "output_type": "execute_result"
    }
   ],
   "source": [
    "gender.dtype"
   ]
  },
  {
   "cell_type": "markdown",
   "id": "725e13d9",
   "metadata": {},
   "source": [
    "# <span style=\"color: blue;\">（2）用数据集构建X、y的方法"
   ]
  },
  {
   "cell_type": "markdown",
   "id": "e0ff7037",
   "metadata": {},
   "source": [
    "### 从dataset中取出数据，给到自己\n",
    " \n",
    "### <span style=\"color: red;\">注意：不要直接用dataset.Weight操作，否则可能会破坏原数据。需要先拷贝出来再使用</span>"
   ]
  },
  {
   "cell_type": "code",
   "execution_count": 18,
   "id": "13b98aa6",
   "metadata": {},
   "outputs": [],
   "source": [
    "weight = dataset.Weight\n",
    "height = dataset.Height\n",
    "weeklyhairwash = dataset.Weeklyhairwash\n",
    "gender = dataset.Gender"
   ]
  },
  {
   "cell_type": "markdown",
   "id": "e3534d0e",
   "metadata": {},
   "source": [
    "### 看一下拷贝出来的weight大小，这是一个向量"
   ]
  },
  {
   "cell_type": "code",
   "execution_count": 19,
   "id": "4fc2501a",
   "metadata": {},
   "outputs": [
    {
     "data": {
      "text/plain": [
       "(114,)"
      ]
     },
     "execution_count": 19,
     "metadata": {},
     "output_type": "execute_result"
    }
   ],
   "source": [
    "weight.shape"
   ]
  },
  {
   "cell_type": "markdown",
   "id": "862300ef",
   "metadata": {},
   "source": [
    "### 把weight做成多行1列的矩阵"
   ]
  },
  {
   "cell_type": "code",
   "execution_count": 20,
   "id": "d1de0e4a",
   "metadata": {},
   "outputs": [
    {
     "data": {
      "text/plain": [
       "(114, 1)"
      ]
     },
     "execution_count": 20,
     "metadata": {},
     "output_type": "execute_result"
    }
   ],
   "source": [
    "weight = weight.reshape(-1,1)\n",
    "weight.shape"
   ]
  },
  {
   "cell_type": "markdown",
   "id": "3380c20c",
   "metadata": {},
   "source": [
    "### 对height、weeklyhairwash做同样操作"
   ]
  },
  {
   "cell_type": "code",
   "execution_count": 21,
   "id": "088697e8",
   "metadata": {},
   "outputs": [],
   "source": [
    "height = height.reshape(-1,1)\n",
    "weeklyhairwash = weeklyhairwash.reshape(-1,1)"
   ]
  },
  {
   "cell_type": "markdown",
   "id": "bea9efd4",
   "metadata": {},
   "source": [
    "### 将weight、height、weeklyhairwash合并成一个大的特征矩阵X，查看其列数为3列"
   ]
  },
  {
   "cell_type": "code",
   "execution_count": 22,
   "id": "4a76c6bf",
   "metadata": {},
   "outputs": [
    {
     "data": {
      "text/plain": [
       "(114, 3)"
      ]
     },
     "execution_count": 22,
     "metadata": {},
     "output_type": "execute_result"
    }
   ],
   "source": [
    "X = np.hstack([height, weight, weeklyhairwash])\n",
    "X.shape"
   ]
  },
  {
   "cell_type": "markdown",
   "id": "fbf8e266",
   "metadata": {},
   "source": [
    "### 将gender作为标记y\n",
    "### 对于y，一个向量就好"
   ]
  },
  {
   "cell_type": "code",
   "execution_count": 23,
   "id": "567e6e2e",
   "metadata": {},
   "outputs": [
    {
     "data": {
      "text/plain": [
       "(114,)"
      ]
     },
     "execution_count": 23,
     "metadata": {},
     "output_type": "execute_result"
    }
   ],
   "source": [
    "y = gender\n",
    "y.shape"
   ]
  },
  {
   "cell_type": "markdown",
   "id": "ca678f65",
   "metadata": {},
   "source": [
    "# <span style=\"color: blue;\"> 可以构建自己的X、y，用于解决各种分类、回归问题"
   ]
  },
  {
   "cell_type": "code",
   "execution_count": null,
   "id": "26bd3486",
   "metadata": {},
   "outputs": [],
   "source": []
  }
 ],
 "metadata": {
  "kernelspec": {
   "display_name": "Python 3 (ipykernel)",
   "language": "python",
   "name": "python3"
  },
  "language_info": {
   "codemirror_mode": {
    "name": "ipython",
    "version": 3
   },
   "file_extension": ".py",
   "mimetype": "text/x-python",
   "name": "python",
   "nbconvert_exporter": "python",
   "pygments_lexer": "ipython3",
   "version": "3.13.0"
  }
 },
 "nbformat": 4,
 "nbformat_minor": 5
}
